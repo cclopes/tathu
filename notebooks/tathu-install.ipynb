{
  "nbformat": 4,
  "nbformat_minor": 0,
  "metadata": {
    "colab": {
      "private_outputs": true,
      "provenance": [],
      "authorship_tag": "ABX9TyMrl189Vo1sCjldQZ6k1H+U",
      "include_colab_link": true
    },
    "kernelspec": {
      "name": "python3",
      "display_name": "Python 3"
    },
    "language_info": {
      "name": "python"
    }
  },
  "cells": [
    {
      "cell_type": "markdown",
      "metadata": {
        "id": "view-in-github",
        "colab_type": "text"
      },
      "source": [
        "<a href=\"https://colab.research.google.com/github/uba/tathu/blob/master/notebooks/tathu-install.ipynb\" target=\"_parent\"><img src=\"https://colab.research.google.com/assets/colab-badge.svg\" alt=\"Open In Colab\"/></a>"
      ]
    },
    {
      "cell_type": "markdown",
      "source": [
        "# **Instalação TATHU - Tracking and Analysis of Thunderstorms**\n",
        "\n",
        "![https://github.com/uba/tathu](https://raw.githubusercontent.com/uba/tathu/master/docs/sphinx/img/logo-tathu.png)\n",
        "\n"
      ],
      "metadata": {
        "id": "jVKnu7kuOp2p"
      }
    },
    {
      "cell_type": "markdown",
      "source": [
        "O código abaixo instala o pacote **condacolab** e reinicia o ambiente automaticamente. \n",
        "\n",
        "Nota: não é necessário rodar esse bloco novamente."
      ],
      "metadata": {
        "id": "xXLbPJjdOceh"
      }
    },
    {
      "cell_type": "code",
      "execution_count": null,
      "metadata": {
        "id": "3O7Jh7sVLMcS"
      },
      "outputs": [],
      "source": [
        "!pip install -q condacolab\n",
        "import condacolab\n",
        "condacolab.install()"
      ]
    },
    {
      "cell_type": "markdown",
      "source": [
        " Instalação dos pacotes necessários:"
      ],
      "metadata": {
        "id": "M7fLB7AgPLIu"
      }
    },
    {
      "cell_type": "code",
      "source": [
        "!conda config --add channels conda-forge\n",
        "!conda config --set channel_priority strict\n",
        "!mamba install -c conda-forge aenum cartopy geopandas netcdf4 opencv pathos psycopg2 pyproj rasterstats requests rtree s3fs scikit-image scipy tqdm\n",
        "!pip install pyyaml==5.4.1"
      ],
      "metadata": {
        "id": "LM-GYguGLiC7"
      },
      "execution_count": null,
      "outputs": []
    },
    {
      "cell_type": "markdown",
      "source": [
        "Instalação do TATHU a partir do repositório oficial:"
      ],
      "metadata": {
        "id": "dpVYsIaGPfbp"
      }
    },
    {
      "cell_type": "code",
      "source": [
        "!git clone https://github.com/uba/tathu.git"
      ],
      "metadata": {
        "id": "LmjGGR1OManz"
      },
      "execution_count": null,
      "outputs": []
    },
    {
      "cell_type": "code",
      "source": [
        "%cd tathu/\n",
        "!python -m pip install --no-deps ."
      ],
      "metadata": {
        "id": "c8QKDiREMeBB"
      },
      "execution_count": null,
      "outputs": []
    },
    {
      "cell_type": "markdown",
      "source": [
        "Verificando a instalação:"
      ],
      "metadata": {
        "id": "jBiHLnVgPp0y"
      }
    },
    {
      "cell_type": "code",
      "source": [
        "import tathu\n",
        "print('Version', tathu.__version__)\n",
        "\n",
        "from tathu.logo import TATHU_BANNER\n",
        "print(TATHU_BANNER)"
      ],
      "metadata": {
        "id": "aNQ0p_fyMgah"
      },
      "execution_count": null,
      "outputs": []
    }
  ]
}
