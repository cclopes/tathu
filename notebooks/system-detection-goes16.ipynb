{
  "cells": [
    {
      "cell_type": "markdown",
      "metadata": {
        "colab_type": "text",
        "id": "view-in-github"
      },
      "source": [
        "<a href=\"https://colab.research.google.com/github/uba/tathu/blob/master/notebooks/system-detection-goes16.ipynb\" target=\"_parent\"><img src=\"https://colab.research.google.com/assets/colab-badge.svg\" alt=\"Open In Colab\"/></a>"
      ]
    },
    {
      "cell_type": "markdown",
      "metadata": {
        "id": "jVKnu7kuOp2p"
      },
      "source": [
        "# **Instalação TATHU - Tracking and Analysis of Thunderstorms**\n",
        "\n",
        "![https://github.com/uba/tathu](https://raw.githubusercontent.com/uba/tathu/master/docs/sphinx/img/logo-tathu.png)\n",
        "\n"
      ]
    },
    {
      "cell_type": "markdown",
      "metadata": {
        "id": "xXLbPJjdOceh"
      },
      "source": [
        "O código abaixo instala o pacote **condacolab** e reinicia o ambiente automaticamente. \n",
        "\n",
        "Nota: não é necessário rodar esse bloco novamente."
      ]
    },
    {
      "cell_type": "code",
      "execution_count": null,
      "metadata": {
        "id": "3O7Jh7sVLMcS"
      },
      "outputs": [],
      "source": [
        "!pip install -q condacolab\n",
        "import condacolab\n",
        "condacolab.install()"
      ]
    },
    {
      "cell_type": "markdown",
      "metadata": {
        "id": "M7fLB7AgPLIu"
      },
      "source": [
        " Instalação dos pacotes necessários:"
      ]
    },
    {
      "cell_type": "code",
      "execution_count": null,
      "metadata": {
        "id": "LM-GYguGLiC7"
      },
      "outputs": [],
      "source": [
        "!conda config --add channels conda-forge\n",
        "!conda config --set channel_priority strict\n",
        "!mamba install -c conda-forge aenum cartopy geopandas netcdf4 opencv pathos psycopg2 pyproj rasterstats requests rtree s3fs scikit-image scipy tqdm\n",
        "!pip install pyyaml==5.4.1"
      ]
    },
    {
      "cell_type": "markdown",
      "metadata": {
        "id": "dpVYsIaGPfbp"
      },
      "source": [
        "Instalação do TATHU a partir do repositório oficial:"
      ]
    },
    {
      "cell_type": "code",
      "execution_count": null,
      "metadata": {
        "id": "LmjGGR1OManz"
      },
      "outputs": [],
      "source": [
        "!git clone https://github.com/uba/tathu.git"
      ]
    },
    {
      "cell_type": "code",
      "execution_count": null,
      "metadata": {
        "id": "c8QKDiREMeBB"
      },
      "outputs": [],
      "source": [
        "%cd tathu/\n",
        "!python -m pip install --no-deps ."
      ]
    },
    {
      "cell_type": "markdown",
      "metadata": {
        "id": "jBiHLnVgPp0y"
      },
      "source": [
        "Verificando a instalação:"
      ]
    },
    {
      "cell_type": "code",
      "execution_count": null,
      "metadata": {
        "id": "aNQ0p_fyMgah"
      },
      "outputs": [],
      "source": [
        "import tathu\n",
        "print('Version', tathu.__version__)\n",
        "\n",
        "from tathu.logo import TATHU_BANNER\n",
        "print(TATHU_BANNER)"
      ]
    },
    {
      "cell_type": "markdown",
      "metadata": {
        "id": "eUBWW5Dnptkd"
      },
      "source": [
        "# **Download Canal 13 Full-Disk - GOES-16**"
      ]
    },
    {
      "cell_type": "code",
      "execution_count": null,
      "metadata": {
        "id": "4-alRP6Vp7zw"
      },
      "outputs": [],
      "source": [
        "from datetime import datetime\n",
        "from tathu.downloader.goes import AWS\n",
        "from tathu.progress import TqdmProgress\n",
        "\n",
        "# Download 26 October 2022, Channel 13, [00] hours UTC\n",
        "start = end = datetime.strptime('20221026', '%Y%m%d')\n",
        "hours = ['00']\n",
        "\n",
        "# From AWS (full-disk)\n",
        "AWS.download(AWS.buckets['GOES-16'], ['ABI-L2-CMIPF'],\n",
        "    start, end, hours, ['13'], './goes16-aws',\n",
        "    progress=TqdmProgress('Download GOES-16 data (AWS)', 'files'))"
      ]
    },
    {
      "cell_type": "markdown",
      "metadata": {
        "id": "SafNSUNKrwij"
      },
      "source": [
        "# **Visualização Canal 13 Full-Disk - GOES-16**"
      ]
    },
    {
      "cell_type": "code",
      "execution_count": null,
      "metadata": {
        "id": "XH-E1dgXr3Wk"
      },
      "outputs": [],
      "source": [
        "import matplotlib.pyplot as plt\n",
        "from netCDF4 import Dataset\n",
        "\n",
        "path = '/content/tathu/goes16-aws/noaa-goes16/ABI-L2-CMIPF/2022/299/00/OR_ABI-L2-CMIPF-M6C13_G16_s20222990000206_e20222990009525_c20222990010007.nc'\n",
        "\n",
        "# Open netCDF file and show full-disk data\n",
        "nc = Dataset(path)\n",
        "data = nc.variables['CMI'][:]\n",
        "plt.imshow(data, cmap='Greys', vmin=180.0, vmax=320.0)\n",
        "plt.colorbar()\n",
        "nc.close()"
      ]
    },
    {
      "cell_type": "markdown",
      "metadata": {
        "id": "Kq3mFqaIs0Px"
      },
      "source": [
        "# **Remapeamento para Grade Regular**"
      ]
    },
    {
      "cell_type": "code",
      "execution_count": null,
      "metadata": {
        "id": "ihWu7nAWtYzA"
      },
      "outputs": [],
      "source": [
        "from osgeo import gdal\n",
        "\n",
        "from tathu.constants import LAT_LONG_WGS84_SOUTH_AMERICA_EXTENT, LAT_LON_WGS84\n",
        "from tathu.satellite import goes16\n",
        "\n",
        "# Geographic area of regular grid [llx, lly, urx, ury], where ll=lower-left, ur=upper-right\n",
        "extent = [-88.02, -46.50, -26.22, 12.54]\n",
        "\n",
        " # Grid resolution (kilometers)\n",
        "resolution = 2.0\n",
        "\n",
        "print('Remapping')\n",
        "grid = goes16.sat2grid(path, extent, resolution, LAT_LON_WGS84, 'HDF5', progress=gdal.TermProgress_nocb)\n",
        "\n",
        "# Visualize regular grid result\n",
        "from tathu.visualizer import MapView\n",
        "\n",
        "m = MapView(extent)\n",
        "m.plotImage(grid, cmap='Greys', vmin=180.0, vmax=320.0)\n",
        "m.show()\n"
      ]
    },
    {
      "cell_type": "markdown",
      "metadata": {
        "id": "_O2I2j-yuYt8"
      },
      "source": [
        "# **Detecção dos Sistemas Convectivos**"
      ]
    },
    {
      "cell_type": "markdown",
      "metadata": {
        "id": "2R_lsOIyuoTU"
      },
      "source": [
        "Definição dos parâmetros para deteção, incluindo valor máximo de temperatura de brilho (235K) e área mínima (3000km2): "
      ]
    },
    {
      "cell_type": "code",
      "execution_count": null,
      "metadata": {
        "id": "u7lEmVOductg"
      },
      "outputs": [],
      "source": [
        "from tathu.tracking.utils import area2degrees\n",
        "\n",
        "# Threshold value\n",
        "threshold = 235 # Kelvin\n",
        "    \n",
        "# Define minimum area\n",
        "minarea = 3000 # km^2\n",
        "\n",
        "# Convert to degrees^2\n",
        "minarea = area2degrees(minarea)"
      ]
    },
    {
      "cell_type": "markdown",
      "metadata": {
        "id": "7Bve5TVQvIrs"
      },
      "source": [
        "Detecção utilizando processo de limiarização a partir da classe `detector.LessThan`:"
      ]
    },
    {
      "cell_type": "code",
      "execution_count": null,
      "metadata": {
        "id": "pcBIMOWBvYYN"
      },
      "outputs": [],
      "source": [
        "from tathu.tracking import detectors\n",
        "\n",
        "# Create detector\n",
        "detector = detectors.LessThan(threshold, minarea)\n",
        "\n",
        "# Searching for systems\n",
        "print('Searching for systems...')\n",
        "systems = detector.detect(grid)\n",
        "print('# Number of detected systems:', len(systems))"
      ]
    },
    {
      "cell_type": "markdown",
      "metadata": {
        "id": "tgWwATPFv_B3"
      },
      "source": [
        "Visualização dos sistemas convectivos detectados:"
      ]
    },
    {
      "cell_type": "code",
      "execution_count": null,
      "metadata": {
        "id": "RZRY1xZMwCrT"
      },
      "outputs": [],
      "source": [
        "m = MapView(extent)\n",
        "m.plotImage(grid, cmap='Greys', vmin=180.0, vmax=320.0)\n",
        "m.plotSystems(systems, facecolor='none', edgecolor='red', centroids=False)\n",
        "m.show()"
      ]
    },
    {
      "cell_type": "markdown",
      "metadata": {
        "id": "gY1CXYfVw5is"
      },
      "source": [
        "# **Extração de Atributos dos Sistemas Convectivos**"
      ]
    },
    {
      "cell_type": "markdown",
      "metadata": {
        "id": "s6itgA_fxDuh"
      },
      "source": [
        "Definição dos atributos que serão extraídos, incluindo valor mínimo, média, desvio padrão e número de pixels.\n",
        "\n"
      ]
    },
    {
      "cell_type": "code",
      "execution_count": null,
      "metadata": {
        "id": "EyVjF4BoxDjE"
      },
      "outputs": [],
      "source": [
        "# Attributes that will be computed\n",
        "attrs = ['min', 'mean', 'std', 'count']"
      ]
    },
    {
      "cell_type": "markdown",
      "metadata": {
        "id": "2cUfJaFFxipQ"
      },
      "source": [
        "Extração de atributos utilizando a classe `descriptors.StatisticalDescriptor`:"
      ]
    },
    {
      "cell_type": "code",
      "execution_count": null,
      "metadata": {
        "id": "1nxLq5KRx0WK"
      },
      "outputs": [],
      "source": [
        "from tathu.tracking import descriptors\n",
        "\n",
        "# Create statistical descriptor\n",
        "descriptor = descriptors.StatisticalDescriptor(rasterOut=True)\n",
        "\n",
        "# Describe systems (stats)\n",
        "descriptor.describe(grid, systems)\n",
        "\n",
        "# Silence some warnings in order to improve visualization\n",
        "import warnings\n",
        "from shapely.errors import ShapelyDeprecationWarning\n",
        "warnings.filterwarnings('ignore', category=ShapelyDeprecationWarning) \n",
        "\n",
        "# Visualize attributes\n",
        "for s in systems:\n",
        "  print(s.name, s.attrs)"
      ]
    }
  ],
  "metadata": {
    "colab": {
      "authorship_tag": "ABX9TyMavOLMNo1KpUMoodjrjgjA",
      "collapsed_sections": [
        "eUBWW5Dnptkd",
        "SafNSUNKrwij",
        "Kq3mFqaIs0Px"
      ],
      "include_colab_link": true,
      "private_outputs": true,
      "provenance": [],
      "toc_visible": true
    },
    "kernelspec": {
      "display_name": "env-tathu",
      "language": "python",
      "name": "python3"
    },
    "language_info": {
      "name": "python",
      "version": "3.10.5 | packaged by conda-forge | (main, Jun 14 2022, 06:57:19) [MSC v.1929 64 bit (AMD64)]"
    },
    "vscode": {
      "interpreter": {
        "hash": "a4df6fb41f4f12cdafb21ca4516cea769b5115ff19d694397fc74b9938a69f7a"
      }
    }
  },
  "nbformat": 4,
  "nbformat_minor": 0
}
