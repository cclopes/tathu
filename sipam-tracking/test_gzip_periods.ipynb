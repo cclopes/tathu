{
 "cells": [
  {
   "cell_type": "code",
   "execution_count": 15,
   "metadata": {},
   "outputs": [],
   "source": [
    "import gzip\n",
    "from datetime import datetime, timedelta\n",
    "import numpy as np\n",
    "\n",
    "from read_sipam_cappis_cptec import read_simple_cappi"
   ]
  },
  {
   "cell_type": "code",
   "execution_count": 2,
   "metadata": {},
   "outputs": [
    {
     "data": {
      "text/plain": [
       "['/data2/GOAMAZON/radar/sipam_manaus/cptec_cappi/2014/01/cappi_201401030312.dat.gz',\n",
       " '/data2/GOAMAZON/radar/sipam_manaus/cptec_cappi/2014/01/cappi_201401030324.dat.gz',\n",
       " '/data2/GOAMAZON/radar/sipam_manaus/cptec_cappi/2014/01/cappi_201401030336.dat.gz',\n",
       " '/data2/GOAMAZON/radar/sipam_manaus/cptec_cappi/2014/01/cappi_201401030348.dat.gz',\n",
       " '/data2/GOAMAZON/radar/sipam_manaus/cptec_cappi/2014/01/cappi_201401030400.dat.gz']"
      ]
     },
     "execution_count": 2,
     "metadata": {},
     "output_type": "execute_result"
    }
   ],
   "source": [
    "filelist = open(\"/home/camilacl/git/tathu/sipam-tracking/in/cptec_cappi_goamazon.txt\", \"r\")\n",
    "files = [line.strip() for line in filelist]\n",
    "files[:5]"
   ]
  },
  {
   "cell_type": "code",
   "execution_count": 13,
   "metadata": {},
   "outputs": [],
   "source": [
    "dates = [f.split(\"_\")[-1] for f in files]\n",
    "dates = [i.split(\".\")[0] for i in dates]\n",
    "dates = [datetime.strptime(date, \"%Y%m%d%H%M\") for date in dates]"
   ]
  },
  {
   "cell_type": "code",
   "execution_count": 17,
   "metadata": {},
   "outputs": [],
   "source": [
    "interval = []\n",
    "for i in range(len(dates)-1):\n",
    "    interval.append(dates[i+1]-dates[i])"
   ]
  },
  {
   "cell_type": "code",
   "execution_count": 32,
   "metadata": {},
   "outputs": [
    {
     "name": "stdout",
     "output_type": "stream",
     "text": [
      "71907 71907 71906\n"
     ]
    }
   ],
   "source": [
    "print(len(files), len(dates), len(interval))"
   ]
  },
  {
   "cell_type": "code",
   "execution_count": 30,
   "metadata": {},
   "outputs": [],
   "source": [
    "cut_index = np.unique([interval.index(val) for val in interval if val > timedelta(seconds=3600)])"
   ]
  },
  {
   "cell_type": "code",
   "execution_count": 42,
   "metadata": {},
   "outputs": [
    {
     "data": {
      "text/plain": [
       "array([ 3900,  3901,  3976,  4023,  4033,  4049,  4051,  4052,  4961,\n",
       "        8362,  8404,  8447,  8449,  8450,  8456,  8461, 11011, 12238,\n",
       "       13599, 13773, 14228, 14586, 14712, 14823, 15080, 16465, 16489,\n",
       "       16583, 16973, 17019, 17749, 18638, 19435, 20448, 20937, 22699,\n",
       "       29046, 30011, 30262, 31436, 31866, 33729, 38799, 38819, 42282,\n",
       "       43724, 52348, 54053, 55382, 55450, 55527, 55599, 57038, 59083,\n",
       "       59636, 59997, 60158, 61594, 61597, 63879, 64145, 64941, 65193,\n",
       "       65291, 65654, 65972, 65973, 68680, 69167, 69953, 71378, 71637,\n",
       "       71694, 71720, 71803, 71835, 71866, 71879, 71895])"
      ]
     },
     "execution_count": 42,
     "metadata": {},
     "output_type": "execute_result"
    }
   ],
   "source": [
    "cut_index"
   ]
  },
  {
   "cell_type": "code",
   "execution_count": 29,
   "metadata": {},
   "outputs": [
    {
     "data": {
      "text/plain": [
       "[datetime.datetime(2014, 2, 4, 14, 48),\n",
       " datetime.datetime(2014, 2, 4, 15, 0),\n",
       " datetime.datetime(2014, 2, 4, 15, 12),\n",
       " datetime.datetime(2014, 2, 6, 18, 12),\n",
       " datetime.datetime(2014, 2, 6, 20, 24),\n",
       " datetime.datetime(2014, 2, 6, 20, 36)]"
      ]
     },
     "execution_count": 29,
     "metadata": {},
     "output_type": "execute_result"
    }
   ],
   "source": [
    "dates[3898:3904]"
   ]
  },
  {
   "cell_type": "code",
   "execution_count": 37,
   "metadata": {},
   "outputs": [],
   "source": [
    "periods = [files[:cut_index[0]+1]]\n",
    "for i in range(len(cut_index)-1):\n",
    "    periods.append(files[cut_index[i]:cut_index[i+1]])"
   ]
  },
  {
   "cell_type": "code",
   "execution_count": 48,
   "metadata": {},
   "outputs": [],
   "source": [
    "i = 0\n",
    "for period in periods:\n",
    "    if len(period) >= 5:\n",
    "        with open(\"./in/cptec_cappi_goamazon_\" + str(i) + \".txt\", \"w\") as output:\n",
    "            for row in period:\n",
    "                output.write(str(row) + \"\\n\")\n",
    "        i += 1"
   ]
  }
 ],
 "metadata": {
  "kernelspec": {
   "display_name": "env-tathu",
   "language": "python",
   "name": "python3"
  },
  "language_info": {
   "codemirror_mode": {
    "name": "ipython",
    "version": 3
   },
   "file_extension": ".py",
   "mimetype": "text/x-python",
   "name": "python",
   "nbconvert_exporter": "python",
   "pygments_lexer": "ipython3",
   "version": "3.10.5 | packaged by conda-forge | (main, Jun 14 2022, 07:06:46) [GCC 10.3.0]"
  },
  "orig_nbformat": 4,
  "vscode": {
   "interpreter": {
    "hash": "b66c37480e8e05115256f23411fe1d216a8bc5b0a1ef62977142693e52c23e56"
   }
  }
 },
 "nbformat": 4,
 "nbformat_minor": 2
}
