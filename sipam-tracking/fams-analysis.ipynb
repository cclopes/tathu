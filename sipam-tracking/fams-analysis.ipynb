{
 "cells": [
  {
   "cell_type": "code",
   "execution_count": 2,
   "metadata": {},
   "outputs": [],
   "source": [
    "import warnings\n",
    "\n",
    "import numpy as np\n",
    "from datetime import datetime\n",
    "import matplotlib.pyplot as plt\n",
    "import matplotlib.style as mpstyle\n",
    "from matplotlib.ticker import ScalarFormatter\n",
    "from matplotlib.dates import DateFormatter, MonthLocator\n",
    "from matplotlib.patches import Patch, Rectangle\n",
    "import pandas as pd\n",
    "import geopandas as gpd\n",
    "from osgeo import ogr\n",
    "import cartopy.crs as ccrs\n",
    "from shapely.geometry import LineString\n",
    "import pickle\n",
    "\n",
    "from tathu.io import pgis\n",
    "from tathu import visualizer\n",
    "from tathu.geometry.transform import ogr2shapely\n",
    "from tathu.geometry.utils import fitEllipse, extractCoordinates2NumpyArray\n",
    "\n",
    "mpstyle.use(\"seaborn-whitegrid\")\n",
    "\n",
    "ogr.UseExceptions()"
   ]
  },
  {
   "cell_type": "code",
   "execution_count": 3,
   "metadata": {},
   "outputs": [
    {
     "name": "stdout",
     "output_type": "stream",
     "text": [
      "5976\n",
      "91613\n"
     ]
    }
   ],
   "source": [
    "# Load family\n",
    "# db = spatialite.Loader(dbname, table)\n",
    "db = pgis.Loader(\"localhost\", \"goamazon_geo\", \"camilacl\", \"mydb0610\", \"systems_filtered\")\n",
    "db_full = pgis.Loader(\"localhost\", \"goamazon_geo\", \"camilacl\", \"mydb0610\", \"systems\")\n",
    "# Get systems\n",
    "names = db.loadNames()\n",
    "names_full = db_full.loadNames()\n",
    "print(len(names))\n",
    "print(len(names_full))"
   ]
  },
  {
   "attachments": {},
   "cell_type": "markdown",
   "metadata": {},
   "source": [
    "## Verificando famílias muito longas\n",
    "\n",
    "Duração maior que 12h"
   ]
  },
  {
   "cell_type": "code",
   "execution_count": null,
   "metadata": {},
   "outputs": [],
   "source": [
    "query = '''SELECT name, elapsed_time FROM\n",
    "        (SELECT name, EXTRACT(epoch FROM (max(date_time) - min(date_time)))/60/60 AS elapsed_time\n",
    "        FROM systems_filtered GROUP BY name) AS duration WHERE elapsed_time >= 8 ORDER BY elapsed_time DESC'''\n",
    "fams = [q[0] for q in db.query(query)]\n",
    "print(len(fams))\n",
    "durations = [q[1] for q in db.query(query)]\n",
    "print(len(durations))"
   ]
  },
  {
   "cell_type": "code",
   "execution_count": null,
   "metadata": {},
   "outputs": [],
   "source": [
    "fams[:5]"
   ]
  },
  {
   "cell_type": "code",
   "execution_count": null,
   "metadata": {},
   "outputs": [],
   "source": [
    "durations[:5]"
   ]
  },
  {
   "attachments": {},
   "cell_type": "markdown",
   "metadata": {},
   "source": [
    "## Verificando repetição de nomes\n",
    "\n",
    "Intervalo entre timestamps maior que o máximo permitido (60 min)"
   ]
  },
  {
   "cell_type": "code",
   "execution_count": null,
   "metadata": {},
   "outputs": [],
   "source": [
    "query = '''SELECT name, diff\n",
    "    FROM (SELECT name, (DATE_PART('day', date_time - lag(date_time) over (partition by name order by date_time)) * 24 +\n",
    "    DATE_PART('hour', date_time - lag(date_time) over (partition by name order by date_time)) * 60 +\n",
    "    DATE_PART('minute', date_time - lag(date_time) over (partition by name order by date_time))) AS diff FROM systems) AS diiff WHERE diff > 60'''\n",
    "fams = [q[0] for q in db.query(query)]\n",
    "diff = [q[1] for q in db.query(query)]\n",
    "print(len(fams))"
   ]
  },
  {
   "cell_type": "code",
   "execution_count": null,
   "metadata": {},
   "outputs": [],
   "source": [
    "fams"
   ]
  },
  {
   "cell_type": "code",
   "execution_count": null,
   "metadata": {},
   "outputs": [],
   "source": [
    "diff"
   ]
  },
  {
   "attachments": {},
   "cell_type": "markdown",
   "metadata": {},
   "source": [
    "## Verificando famílias muito curtas (1 step) sem relações\n",
    "Duração de 1 step, status de `SPONTANEUOS_GENERATION` e não estando em `relations`"
   ]
  },
  {
   "cell_type": "code",
   "execution_count": null,
   "metadata": {},
   "outputs": [],
   "source": [
    "query = '''SELECT name, cc FROM (SELECT name, COUNT(*) AS cc FROM systems GROUP BY name) AS ccc WHERE cc = 1'''\n",
    "fams = [q[0] for q in db.query(query)]\n",
    "cc = [q[1] for q in db.query(query)]\n",
    "print(len(fams))"
   ]
  },
  {
   "cell_type": "code",
   "execution_count": null,
   "metadata": {},
   "outputs": [],
   "source": [
    "query = \"SELECT name, event FROM systems WHERE name IN \" + \"('\" + \"','\".join(fams) + \"') AND event = 'SPONTANEOUS_GENERATION'\"\n",
    "qq = [q[0] for q in db.query(query)]\n",
    "print(len(qq))"
   ]
  },
  {
   "cell_type": "code",
   "execution_count": null,
   "metadata": {},
   "outputs": [],
   "source": [
    "query = (\n",
    "    \"SELECT name, relations FROM systems \"\n",
    "    + \"WHERE relations IN \"\n",
    "    + \"(ARRAY['\" + \"'],ARRAY['\".join(qq) + \"'])\"\n",
    ")\n",
    "names = [q[0] for q in db.query(query)]\n",
    "rels = [q[1] for q in db.query(query)]\n",
    "print(len(rels))"
   ]
  },
  {
   "cell_type": "code",
   "execution_count": null,
   "metadata": {},
   "outputs": [],
   "source": [
    "rels[:5]"
   ]
  },
  {
   "attachments": {},
   "cell_type": "markdown",
   "metadata": {},
   "source": [
    "## Extraindo dados para estatísticas\n",
    "\n",
    "- `count`\n",
    "- `duration`\n",
    "- `max`, `mean`\n",
    "- `event`\n",
    "- `date_time`\n",
    "- `gld`\n",
    "- `geom`"
   ]
  },
  {
   "cell_type": "code",
   "execution_count": 4,
   "metadata": {},
   "outputs": [
    {
     "name": "stdout",
     "output_type": "stream",
     "text": [
      "40394\n",
      "5976\n",
      "5976\n",
      "40394\n",
      "40394\n",
      "40394\n",
      "40394\n",
      "40394\n",
      "5976\n",
      "5976\n",
      "40394\n",
      "40394\n",
      "40394\n",
      "40394\n"
     ]
    }
   ],
   "source": [
    "# From systems_filtered\n",
    "\n",
    "query = '''SELECT count FROM systems_filtered'''\n",
    "areas = [q[0] for q in db.query(query)]\n",
    "print(len(areas))\n",
    "\n",
    "query = '''SELECT MAX(count) FROM systems_filtered GROUP BY name'''\n",
    "max_areas = [q[0] for q in db.query(query)]\n",
    "print(len(max_areas))\n",
    "\n",
    "query = '''SELECT elapsed_time FROM\n",
    "        (SELECT name, EXTRACT(epoch FROM (max(date_time) - min(date_time))/60) AS elapsed_time\n",
    "        FROM systems_filtered GROUP BY name) AS duration'''\n",
    "durations = [q[0] for q in db.query(query)]\n",
    "print(len(durations))\n",
    "\n",
    "query = '''SELECT max FROM systems_filtered'''\n",
    "zmax = [q[0] for q in db.query(query)]\n",
    "print(len(zmax))\n",
    "\n",
    "query = '''SELECT mean FROM systems_filtered'''\n",
    "zmean = [q[0] for q in db.query(query)]\n",
    "print(len(zmean))\n",
    "\n",
    "query = '''SELECT event FROM systems_filtered'''\n",
    "event = [q[0] for q in db.query(query)]\n",
    "print(len(event))\n",
    "\n",
    "query = '''SELECT date_time FROM systems_filtered'''\n",
    "timestamp = [q[0] for q in db.query(query)]\n",
    "print(len(timestamp))\n",
    "\n",
    "query = '''SELECT gld FROM systems_filtered'''\n",
    "gld = [q[0] for q in db.query(query)]\n",
    "print(len(gld))\n",
    "\n",
    "query = '''SELECT DISTINCT ON (name) ST_AsBinary(geom) as wkb FROM systems_filtered ORDER BY name, date_time ASC'''\n",
    "first_geoms = [ogr.CreateGeometryFromWkb(bytes(q[0])) for q in db.query(query)]\n",
    "print(len(first_geoms))\n",
    "\n",
    "query = '''SELECT DISTINCT ON (name) date_time FROM systems_filtered ORDER BY name, date_time ASC'''\n",
    "first_dates = [q[0] for q in db.query(query)]\n",
    "print(len(first_dates))\n",
    "\n",
    "query = '''SELECT name, ST_AsBinary(geom) as wkb FROM systems_filtered'''\n",
    "geoms_names = [q[0] for q in db.query(query)]\n",
    "geoms = [ogr.CreateGeometryFromWkb(bytes(q[1])) for q in db.query(query)]\n",
    "print(len(geoms))\n",
    "\n",
    "query = '''SELECT echotop_0, echotop_20, echotop_40 FROM systems_filtered'''\n",
    "echo0 = [q[0] for q in db.query(query)]\n",
    "print(len(echo0))\n",
    "echo20 = [q[1] for q in db.query(query)]\n",
    "print(len(echo20))\n",
    "echo40 = [q[2] for q in db.query(query)]\n",
    "print(len(echo40))"
   ]
  },
  {
   "cell_type": "code",
   "execution_count": 5,
   "metadata": {},
   "outputs": [
    {
     "name": "stdout",
     "output_type": "stream",
     "text": [
      "322896\n",
      "91609\n",
      "91609\n",
      "322896\n",
      "322896\n",
      "322896\n",
      "322896\n",
      "91609\n"
     ]
    }
   ],
   "source": [
    "# From systems\n",
    "\n",
    "query = (\n",
    "    \"SELECT count FROM systems WHERE name NOT IN\"\n",
    "    \" ('c8a8ed48-2db2-4eb7-b5e4-0feaf6452c5e',\"\n",
    "    \" '1a332204-12fe-4abb-bd9d-b73f5450dd03',\"\n",
    "    \" 'c5f70bb0-5cb3-4b09-83f9-fa003b938f65',\"\n",
    "    \" '50f14b96-efa7-4dee-aa1b-510ece86172a')\"\n",
    ")\n",
    "areas_full = [q[0] for q in db_full.query(query)]\n",
    "print(len(areas_full))\n",
    "\n",
    "query = (\n",
    "    \"SELECT MAX(count) FROM systems WHERE name NOT IN\"\n",
    "    \" ('c8a8ed48-2db2-4eb7-b5e4-0feaf6452c5e',\"\n",
    "    \" '1a332204-12fe-4abb-bd9d-b73f5450dd03',\"\n",
    "    \" 'c5f70bb0-5cb3-4b09-83f9-fa003b938f65',\"\n",
    "    \" '50f14b96-efa7-4dee-aa1b-510ece86172a') GROUP BY name\"\n",
    ")\n",
    "max_areas_full = [q[0] for q in db_full.query(query)]\n",
    "print(len(max_areas_full))\n",
    "\n",
    "query = (\n",
    "    \"SELECT elapsed_time FROM (SELECT name, EXTRACT(epoch FROM (max(date_time)\"\n",
    "    \" - min(date_time))/60) AS elapsed_time FROM systems WHERE name NOT IN\"\n",
    "    \" ('c8a8ed48-2db2-4eb7-b5e4-0feaf6452c5e',\"\n",
    "    \" '1a332204-12fe-4abb-bd9d-b73f5450dd03',\"\n",
    "    \" 'c5f70bb0-5cb3-4b09-83f9-fa003b938f65',\"\n",
    "    \" '50f14b96-efa7-4dee-aa1b-510ece86172a') GROUP BY name) AS duration\"\n",
    ")\n",
    "durations_full = [q[0] for q in db_full.query(query)]\n",
    "print(len(durations_full))\n",
    "\n",
    "query = (\n",
    "    \"SELECT max FROM systems WHERE name NOT IN\"\n",
    "    \" ('c8a8ed48-2db2-4eb7-b5e4-0feaf6452c5e',\"\n",
    "    \" '1a332204-12fe-4abb-bd9d-b73f5450dd03',\"\n",
    "    \" 'c5f70bb0-5cb3-4b09-83f9-fa003b938f65',\"\n",
    "    \" '50f14b96-efa7-4dee-aa1b-510ece86172a')\"\n",
    ")\n",
    "zmax_full = [q[0] for q in db_full.query(query)]\n",
    "print(len(zmax_full))\n",
    "\n",
    "query = (\n",
    "    \"SELECT mean FROM systems WHERE name NOT IN\"\n",
    "    \" ('c8a8ed48-2db2-4eb7-b5e4-0feaf6452c5e',\"\n",
    "    \" '1a332204-12fe-4abb-bd9d-b73f5450dd03',\"\n",
    "    \" 'c5f70bb0-5cb3-4b09-83f9-fa003b938f65',\"\n",
    "    \" '50f14b96-efa7-4dee-aa1b-510ece86172a')\"\n",
    ")\n",
    "zmean_full = [q[0] for q in db_full.query(query)]\n",
    "print(len(zmean_full))\n",
    "\n",
    "query = (\n",
    "    \"SELECT event FROM systems WHERE name NOT IN\"\n",
    "    \" ('c8a8ed48-2db2-4eb7-b5e4-0feaf6452c5e',\"\n",
    "    \" '1a332204-12fe-4abb-bd9d-b73f5450dd03',\"\n",
    "    \" 'c5f70bb0-5cb3-4b09-83f9-fa003b938f65',\"\n",
    "    \" '50f14b96-efa7-4dee-aa1b-510ece86172a')\"\n",
    ")\n",
    "event_full = [q[0] for q in db_full.query(query)]\n",
    "print(len(event_full))\n",
    "\n",
    "query = (\n",
    "    \"SELECT date_time FROM systems WHERE name NOT IN\"\n",
    "    \" ('c8a8ed48-2db2-4eb7-b5e4-0feaf6452c5e',\"\n",
    "    \" '1a332204-12fe-4abb-bd9d-b73f5450dd03',\"\n",
    "    \" 'c5f70bb0-5cb3-4b09-83f9-fa003b938f65',\"\n",
    "    \" '50f14b96-efa7-4dee-aa1b-510ece86172a')\"\n",
    ")\n",
    "timestamp_full = [q[0] for q in db_full.query(query)]\n",
    "print(len(timestamp_full))\n",
    "\n",
    "query = (\n",
    "    \"SELECT DISTINCT ON (name) date_time FROM systems WHERE name NOT IN\"\n",
    "    \" ('c8a8ed48-2db2-4eb7-b5e4-0feaf6452c5e',\"\n",
    "    \" '1a332204-12fe-4abb-bd9d-b73f5450dd03',\"\n",
    "    \" 'c5f70bb0-5cb3-4b09-83f9-fa003b938f65',\"\n",
    "    \" '50f14b96-efa7-4dee-aa1b-510ece86172a') ORDER BY name, date_time ASC\"\n",
    ")\n",
    "first_dates_full = [q[0] for q in db_full.query(query)]\n",
    "print(len(first_dates_full))\n"
   ]
  },
  {
   "attachments": {},
   "cell_type": "markdown",
   "metadata": {},
   "source": [
    "### Convertendo para um df do Pandas e plotando"
   ]
  },
  {
   "cell_type": "code",
   "execution_count": 8,
   "metadata": {},
   "outputs": [],
   "source": [
    "# From systems_filtered\n",
    "systems_all = pd.DataFrame({\"area\": areas, \"max\": zmax, \"mean\": zmean, \"event\": event, \"timestamp\": timestamp, \"gld\": gld, \"geom_name\": geoms_names, \"geom\": geoms, \"echotop_0\": echo0, \"echotop_20\": echo20, \"echotop_40\": echo40})\n",
    "systems_all.timestamp = systems_all.timestamp.dt.tz_localize(\"UTC\")\n",
    "systems_all.timestamp = systems_all.timestamp.dt.tz_convert('America/Manaus')\n",
    "systems_all[[\"echotop_0\", \"echotop_20\", \"echotop_40\"]] = systems_all[[\"echotop_0\", \"echotop_20\", \"echotop_40\"]].astype(int)\n",
    "systems_per = pd.DataFrame({\"max_area\": max_areas, \"duration\": [float(dur)/60 for dur in durations], \"geom\": first_geoms, \"timestamp\": first_dates})\n",
    "systems_per.timestamp = systems_per.timestamp.dt.tz_localize(\"UTC\")\n",
    "systems_per.timestamp = systems_per.timestamp.dt.tz_convert('America/Manaus')\n",
    "\n",
    "# From systems\n",
    "systems_all_full = pd.DataFrame({\"area\": areas_full, \"max\": zmax_full, \"mean\": zmean_full, \"event\": event_full, \"timestamp\": timestamp_full})\n",
    "systems_all_full.timestamp = systems_all_full.timestamp.dt.tz_localize(\"UTC\")\n",
    "systems_all_full.timestamp = systems_all_full.timestamp.dt.tz_convert('America/Manaus')\n",
    "systems_per_full = pd.DataFrame({\"max_area\": max_areas_full, \"duration\": [float(dur)/60 for dur in durations_full], \"timestamp\": first_dates_full})\n",
    "systems_per_full.timestamp = systems_per_full.timestamp.dt.tz_localize(\"UTC\")\n",
    "systems_per_full.timestamp = systems_per_full.timestamp.dt.tz_convert('America/Manaus')\n",
    "\n",
    "# Plot labels\n",
    "class_labels = [\"SPONTANEOUS\\nGENERATION\", \"CONTINUITY\", \"SPLIT\", \"MERGE\"]\n",
    "time_ticks = pd.date_range(start=\"2014-01-01\", end=\"2015-12-31\", freq=\"1M\")\n",
    "time_labels = time_ticks.strftime(\"%b %Y\")\n",
    "time_ticks_2 = pd.date_range(start=\"00:00\", end=\"23:00\", freq=\"1H\")\n",
    "time_labels_2 = time_ticks_2.strftime(\"%H:%M\")\n",
    "custom_legend = [Patch(facecolor=\"w\", edgecolor=\"k\", label=\"Raw\"),\n",
    "                Patch(facecolor=\"k\", edgecolor=\"k\", label=\"Filtered\")]\n",
    "custom_legend_all = [Patch(facecolor=\"w\", edgecolor=\"k\", label=\"Raw (total = \" + str(len(systems_all_full)) + \")\"),\n",
    "                Patch(facecolor=\"k\", edgecolor=\"k\", label=\"Filtered (total = \" + str(len(systems_all)) + \")\")]\n",
    "custom_legend_per = [Patch(facecolor=\"w\", edgecolor=\"k\", label=\"Raw (total = \" + str(len(systems_per_full)) + \")\"),\n",
    "                Patch(facecolor=\"k\", edgecolor=\"k\", label=\"Filtered (total = \" + str(len(systems_per)) + \")\")]"
   ]
  },
  {
   "attachments": {},
   "cell_type": "markdown",
   "metadata": {},
   "source": [
    "### Area"
   ]
  },
  {
   "cell_type": "code",
   "execution_count": null,
   "metadata": {},
   "outputs": [],
   "source": [
    "fig = plt.figure(figsize=(7,5))\n",
    "gs = fig.add_gridspec(2,1)\n",
    "\n",
    "ax1 = fig.add_subplot(gs[0,0])\n",
    "ax_area = systems_all_full.area.plot.hist(bins=range(0, 63000, 1000), grid=True, color=\"w\", edgecolor=\"k\", ax=ax1)\n",
    "systems_all.area.plot.hist(bins=range(0, 63000, 1000), grid=True, color=\"k\", edgecolor=\"k\", ax=ax1)\n",
    "ax_area.set_yscale(\"log\")\n",
    "# ax_area.yaxis.set_major_formatter(ScalarFormatter())\n",
    "ax_area.set_ylim(bottom=1)\n",
    "ax_area.set_ylabel(\"Count\")\n",
    "ax_area.set_title(\"Area of Clusters\")\n",
    "ax_area.legend(handles=custom_legend)\n",
    "\n",
    "ax2 = fig.add_subplot(gs[1,0])\n",
    "ax_area2 = systems_per_full.max_area.plot.hist(bins=range(0, 63000, 1000), grid=True, color=\"w\", edgecolor=\"k\", ax=ax2)\n",
    "systems_per.max_area.plot.hist(bins=range(0, 63000, 1000), grid=True, color=\"k\", edgecolor=\"k\", ax=ax2)\n",
    "ax_area2.set_yscale(\"log\")\n",
    "# ax_area2.yaxis.set_major_formatter(ScalarFormatter())\n",
    "ax_area2.set_ylim(bottom=1)\n",
    "ax_area2.set_xlabel(\"km²\")\n",
    "ax_area2.set_ylabel(\"Count\")\n",
    "ax_area2.set_title(\"Max Area of Convective Systems\")\n",
    "ax_area2.legend(handles=custom_legend)\n",
    "\n",
    "gs.tight_layout(fig)\n",
    "\n",
    "plt.savefig(\"out/goamazon/exploratory_stats_area.png\", dpi=300, facecolor=\"none\")"
   ]
  },
  {
   "attachments": {},
   "cell_type": "markdown",
   "metadata": {},
   "source": [
    "### Refletividade média/máxima"
   ]
  },
  {
   "cell_type": "code",
   "execution_count": 26,
   "metadata": {},
   "outputs": [
    {
     "data": {
      "image/png": "[encoded data removed]",
      "text/plain": [
       "<Figure size 700x500 with 2 Axes>"
      ]
     },
     "metadata": {},
     "output_type": "display_data"
    }
   ],
   "source": [
    "fig = plt.figure(figsize=(7,5))\n",
    "gs = fig.add_gridspec(2,1)\n",
    "\n",
    "ax1 = fig.add_subplot(gs[0,0])\n",
    "ax_maxmean = systems_all_full[[\"max\", \"mean\"]].plot.hist(bins=range(20, 70, 5), grid=True, weights=np.ones(len(systems_all_full))/len(systems_all_full)*100, color=(\"#3C2692\",\"#F1F1F1\"), edgecolor=\"k\", alpha=.5, ax=ax1)\n",
    "ax_maxmean.set_title(\"Raw clusters (total = \" + str(len(systems_all_full)) + \")\")\n",
    "ax_maxmean.set_ylabel(\"Frequency (%)\")\n",
    "\n",
    "ax2 = fig.add_subplot(gs[1,0])\n",
    "ax_maxmean = systems_all[[\"max\", \"mean\"]].plot.hist(bins=range(20, 70, 5), grid=True, weights=np.ones(len(systems_all))/len(systems_all)*100, color=(\"#3C2692\",\"#F1F1F1\"), edgecolor=\"k\", alpha=.5, ax=ax2)\n",
    "ax_maxmean.set_title(\"Filtered clusters (total = \" + str(len(systems_all)) + \")\")\n",
    "ax_maxmean.set_ylabel(\"Frequency (%)\")\n",
    "ax_maxmean.set_xlabel(\"dBZ\")\n",
    "\n",
    "fig.suptitle(\"3-km Reflectivity\", size=14, fontweight=\"bold\")\n",
    "\n",
    "gs.tight_layout(fig)\n",
    "\n",
    "plt.savefig(\"out/goamazon/exploratory_stats_z.png\", dpi=300, facecolor=\"none\")"
   ]
  },
  {
   "attachments": {},
   "cell_type": "markdown",
   "metadata": {},
   "source": [
    "### Classificação"
   ]
  },
  {
   "cell_type": "code",
   "execution_count": null,
   "metadata": {},
   "outputs": [],
   "source": [
    "classes = pd.DataFrame({\"full\": (systems_all_full[\"event\"].value_counts()/len(systems_all_full)*100),\n",
    "                        \"no-full\": (systems_all[\"event\"].value_counts()/len(systems_all)*100)}).reindex(index=[\"SPONTANEOUS_GENERATION\", \"CONTINUITY\", \"SPLIT\", \"MERGE\"])\n",
    "\n",
    "fig = plt.figure(figsize=(7,3))\n",
    "gs = fig.add_gridspec(1,1)\n",
    "\n",
    "ax = fig.add_subplot(gs[0,0])\n",
    "ax_class = classes.plot(kind=\"bar\", color=[\"w\", \"k\"], edgecolor=\"k\", ax=ax)\n",
    "ax.bar_label(ax.containers[0], fmt=\"%.0f\")\n",
    "ax.bar_label(ax.containers[1], fmt=\"%.0f\")\n",
    "ax_class.grid(axis=\"x\")\n",
    "ax_class.set_xticks(ticks=range(4), labels=class_labels, rotation=0)\n",
    "ax_class.set_ylabel(\"Frequency (%)\")\n",
    "ax_class.set_ylim(top=80)\n",
    "ax_class.set_title(\"Clusters Classification\", fontweight=\"bold\")\n",
    "ax_class.legend(handles=custom_legend_all)\n",
    "\n",
    "gs.tight_layout(fig)\n",
    "\n",
    "plt.savefig(\"out/goamazon/exploratory_stats_class.png\", dpi=300, facecolor=\"none\")"
   ]
  },
  {
   "attachments": {},
   "cell_type": "markdown",
   "metadata": {},
   "source": [
    "### Duração"
   ]
  },
  {
   "cell_type": "code",
   "execution_count": 10,
   "metadata": {},
   "outputs": [
    {
     "data": {
      "image/png": "[encoded data removed]",
      "text/plain": [
       "<Figure size 700x300 with 1 Axes>"
      ]
     },
     "metadata": {},
     "output_type": "display_data"
    }
   ],
   "source": [
    "fig = plt.figure(figsize=(7,3))\n",
    "gs = fig.add_gridspec(1,1)\n",
    "\n",
    "ax5 = fig.add_subplot(gs[0,0])\n",
    "ax_dur = systems_per_full.duration.plot.hist(bins=range(0, 27), grid=True, color=\"w\", edgecolor=\"k\", ax=ax5)\n",
    "systems_per.duration.plot.hist(bins=range(0, 27), grid=True, color=\"k\", edgecolor=\"k\", ax=ax5)\n",
    "ax_dur.set_yscale(\"log\")\n",
    "# ax_dur.yaxis.set_major_formatter(ScalarFormatter())\n",
    "ax_dur.set_ylim(bottom=1)\n",
    "ax_dur.set_ylabel(\"Count\")\n",
    "ax_dur.set_xlabel(\"Hours\")\n",
    "ax_dur.set_title(\"Convective Systems Duration\", fontweight=\"bold\")\n",
    "ax_dur.legend(handles=custom_legend)\n",
    "\n",
    "gs.tight_layout(fig)\n",
    "\n",
    "plt.savefig(\"out/goamazon/exploratory_stats_dur.png\", dpi=300, facecolor=\"none\")"
   ]
  },
  {
   "attachments": {},
   "cell_type": "markdown",
   "metadata": {},
   "source": [
    "### Clusters por mês"
   ]
  },
  {
   "cell_type": "code",
   "execution_count": null,
   "metadata": {},
   "outputs": [],
   "source": [
    "# Definição das estações/IOPs: Machado et al. (2018)\n",
    "custom_legend_all2 = [Patch(facecolor=\"w\", edgecolor=\"k\", label=\"Raw (total = \" + str(len(systems_all_full)) + \")\"),\n",
    "                Patch(facecolor=\"k\", edgecolor=\"k\", label=\"Filtered (total = \" + str(len(systems_all)) + \")\"),\n",
    "                Patch(facecolor=\"dodgerblue\", edgecolor=\"dodgerblue\", label=\"Wet season\"),\n",
    "                Patch(facecolor=\"red\", edgecolor=\"red\", label=\"Dry season\")]\n",
    "\n",
    "monthly = pd.DataFrame({\"full\": (systems_all_full.resample(\"1M\", on=\"timestamp\").count().timestamp/len(systems_all_full)*100),\n",
    "                        \"no-full\": (systems_all.resample(\"1M\", on=\"timestamp\").count().timestamp/len(systems_all)*100)})\n",
    "\n",
    "fig = plt.figure(figsize=(7,4))\n",
    "gs = fig.add_gridspec(1,1)\n",
    "\n",
    "ax1 = fig.add_subplot(gs[0,0])\n",
    "ax_time = monthly.plot(kind=\"bar\", color=[\"w\", \"k\"], edgecolor=\"k\", ax=ax1)\n",
    "# Wet/dry season bars\n",
    "ax_time.axvspan(-0.5, 2.5, facecolor=\"dodgerblue\", edgecolor=\"none\", alpha=0.5, zorder=0)\n",
    "ax_time.axvspan(6.5, 9.5, facecolor=\"r\", edgecolor=\"none\", alpha=0.5, zorder=0)\n",
    "ax_time.axvspan(11.5, 14.5, facecolor=\"dodgerblue\", edgecolor=\"none\", alpha=0.5, zorder=0)\n",
    "ax_time.axvspan(18.5, 21.5, facecolor=\"r\", edgecolor=\"none\", alpha=0.5, zorder=0)\n",
    "# IOPs lines/labels\n",
    "ax_time.axvline([0.5], color=\"k\", linestyle=\"--\")\n",
    "ax_time.axvline([2.5], color=\"k\", linestyle=\"--\")\n",
    "ax_time.axvline([7], color=\"k\", linestyle=\"--\")\n",
    "ax_time.axvline([9], color=\"k\", linestyle=\"--\")\n",
    "ax_time.text(x=1.5, y=8, s=\"IOP1\", fontweight=\"bold\", ha=\"center\")\n",
    "ax_time.text(x=8, y=8, s=\"IOP2\", fontweight=\"bold\", ha=\"center\")\n",
    "ax_time.grid(axis=\"x\")\n",
    "ax_time.set_xlabel(\"\")\n",
    "ax_time.set_xticklabels(labels=time_labels)\n",
    "ax_time.set_ylabel(\"Frequency (%)\")\n",
    "ax_time.set_title(\"Monthly distribution of clusters\", fontweight=\"bold\")\n",
    "ax_time.legend(handles=custom_legend_all2, ncol=2, columnspacing=0.8, loc='upper left', bbox_to_anchor=(0.38, 1))\n",
    "\n",
    "gs.tight_layout(fig)\n",
    "\n",
    "plt.savefig(\"out/goamazon/exploratory_stats_monthly.png\", dpi=300, facecolor=\"none\")"
   ]
  },
  {
   "attachments": {},
   "cell_type": "markdown",
   "metadata": {},
   "source": [
    "### Clusters ao lonog do dia, por estação"
   ]
  },
  {
   "cell_type": "code",
   "execution_count": null,
   "metadata": {},
   "outputs": [],
   "source": [
    "# Definição das estações/IOPs: Machado et al. (2018)\n",
    "systems_all_full_wet = systems_all_full.loc[systems_all_full[\"timestamp\"].dt.month.isin([1,2,3])]\n",
    "systems_all_wet = systems_all.loc[systems_all[\"timestamp\"].dt.month.isin([1,2,3])]\n",
    "systems_all_full_dry = systems_all_full.loc[systems_all_full[\"timestamp\"].dt.month.isin([8,9,10])]\n",
    "systems_all_dry = systems_all.loc[systems_all[\"timestamp\"].dt.month.isin([8,9,10])]\n",
    "systems_all_full_drytowet = systems_all_full.loc[systems_all_full[\"timestamp\"].dt.month.isin([11,12])]\n",
    "systems_all_drytowet = systems_all.loc[systems_all[\"timestamp\"].dt.month.isin([11,12])]\n",
    "\n",
    "custom_legend_all_wet = [Patch(facecolor=\"w\", edgecolor=\"k\", label=\"Raw (total = \" + str(len(systems_all_full_wet)) + \")\"),\n",
    "                Patch(facecolor=\"k\", edgecolor=\"k\", label=\"Filtered (total = \" + str(len(systems_all_wet)) + \")\")]\n",
    "custom_legend_all_dry = [Patch(facecolor=\"w\", edgecolor=\"k\", label=\"Raw (total = \" + str(len(systems_all_full_dry)) + \")\"),\n",
    "                Patch(facecolor=\"k\", edgecolor=\"k\", label=\"Filtered (total = \" + str(len(systems_all_dry)) + \")\")]\n",
    "custom_legend_all_drytowet = [Patch(facecolor=\"w\", edgecolor=\"k\", label=\"Raw (total = \" + str(len(systems_all_full_drytowet)) + \")\"),\n",
    "                Patch(facecolor=\"k\", edgecolor=\"k\", label=\"Filtered (total = \" + str(len(systems_all_drytowet)) + \")\")]\n",
    "\n",
    "hourly_wet = pd.DataFrame({\"full\": (systems_all_full_wet.groupby(systems_all_full_wet.timestamp.dt.hour).count().timestamp/len(systems_all_full_wet)*100),\n",
    "                        \"no-full\": (systems_all_wet.groupby(systems_all_wet.timestamp.dt.hour).count().timestamp/len(systems_all_wet)*100)})\n",
    "hourly_dry = pd.DataFrame({\"full\": (systems_all_full_dry.groupby(systems_all_full_dry.timestamp.dt.hour).count().timestamp/len(systems_all_full_dry)*100),\n",
    "                        \"no-full\": (systems_all_dry.groupby(systems_all_dry.timestamp.dt.hour).count().timestamp/len(systems_all_dry)*100)})\n",
    "hourly_drytowet = pd.DataFrame({\"full\": (systems_all_full_drytowet.groupby(systems_all_full_drytowet.timestamp.dt.hour).count().timestamp/len(systems_all_full_drytowet)*100),\n",
    "                        \"no-full\": (systems_all_drytowet.groupby(systems_all_drytowet.timestamp.dt.hour).count().timestamp/len(systems_all_drytowet)*100)})\n",
    "\n",
    "fig = plt.figure(figsize=(7,7))\n",
    "gs = fig.add_gridspec(3,1)\n",
    "\n",
    "ax1 = fig.add_subplot(gs[0,0])\n",
    "ax_time = hourly_dry.plot(kind=\"bar\", color=[\"w\", \"k\"], edgecolor=\"k\", ax=ax1)\n",
    "ax_time.grid(axis=\"x\")\n",
    "ax_time.set_xlabel(\"\")\n",
    "ax_time.set_xticklabels(labels=time_labels_2)\n",
    "ax_time.set_ylabel(\"Frequency (%)\")\n",
    "ax_time.set_title(\"Dry Season\")\n",
    "ax_time.legend(handles=custom_legend_all_dry, loc='upper left')\n",
    "\n",
    "ax2 = fig.add_subplot(gs[1,0])\n",
    "ax_time2 = hourly_drytowet.plot(kind=\"bar\", color=[\"w\", \"k\"], edgecolor=\"k\", ax=ax2)\n",
    "ax_time2.grid(axis=\"x\")\n",
    "ax_time2.set_xlabel(\"\")\n",
    "ax_time2.set_xticklabels(labels=time_labels_2)\n",
    "ax_time2.set_ylabel(\"Frequency (%)\")\n",
    "ax_time2.set_title(\"Dry-to-Wet Season\")\n",
    "ax_time2.legend(handles=custom_legend_all_drytowet, loc='upper left')\n",
    "\n",
    "ax3 = fig.add_subplot(gs[2,0])\n",
    "ax_time3 = hourly_wet.plot(kind=\"bar\", color=[\"w\", \"k\"], edgecolor=\"k\", ax=ax3)\n",
    "ax_time3.grid(axis=\"x\")\n",
    "ax_time3.set_xlabel(\"Local Time\")\n",
    "ax_time3.set_xticklabels(labels=time_labels_2)\n",
    "ax_time3.set_ylabel(\"Frequency (%)\")\n",
    "ax_time3.set_title(\"Wet Season\")\n",
    "ax_time3.legend(handles=custom_legend_all_wet, loc='upper left')\n",
    "\n",
    "fig.suptitle(\"Hourly distribution of clusters\", size=14, fontweight=\"bold\")\n",
    "\n",
    "gs.tight_layout(fig)\n",
    "\n",
    "plt.savefig(\"out/goamazon/exploratory_stats_hourly.png\", dpi=300, facecolor=\"none\")"
   ]
  },
  {
   "attachments": {},
   "cell_type": "markdown",
   "metadata": {},
   "source": [
    "### Clusters ao longo do dia, por IOP"
   ]
  },
  {
   "cell_type": "code",
   "execution_count": null,
   "metadata": {},
   "outputs": [],
   "source": [
    "# Definição das estações/IOPs: Machado et al. (2018)\n",
    "systems_all_full_iop1 = systems_all_full.loc[(systems_all_full[\"timestamp\"].dt.month.isin([2,3])) & (systems_all_full[\"timestamp\"].dt.year == 2014)]\n",
    "systems_all_iop1 = systems_all.loc[(systems_all[\"timestamp\"].dt.month.isin([2,3])) & (systems_all[\"timestamp\"].dt.year == 2014)]\n",
    "systems_all_full_iop2 = systems_all_full.set_index([\"timestamp\"]).loc[\"2014-8-15\":\"2014-10-15\"].reset_index()\n",
    "systems_all_iop2 = systems_all.set_index([\"timestamp\"]).loc[\"2014-8-15\":\"2014-10-15\"].reset_index()\n",
    "\n",
    "custom_legend_all_iop1 = [Patch(facecolor=\"w\", edgecolor=\"k\", label=\"Raw (total = \" + str(len(systems_all_full_iop1)) + \")\"),\n",
    "                Patch(facecolor=\"k\", edgecolor=\"k\", label=\"Filtered (total = \" + str(len(systems_all_iop1)) + \")\")]\n",
    "custom_legend_all_iop2 = [Patch(facecolor=\"w\", edgecolor=\"k\", label=\"Raw (total = \" + str(len(systems_all_full_iop2)) + \")\"),\n",
    "                Patch(facecolor=\"k\", edgecolor=\"k\", label=\"Filtered (total = \" + str(len(systems_all_iop2)) + \")\")]\n",
    "\n",
    "hourly_iop1 = pd.DataFrame({\"full\": (systems_all_full_iop1.groupby(systems_all_full_iop1.timestamp.dt.hour).count().timestamp/len(systems_all_full_iop1)*100),\n",
    "                        \"no-full\": (systems_all_iop1.groupby(systems_all_iop1.timestamp.dt.hour).count().timestamp/len(systems_all_iop1)*100)})\n",
    "hourly_ìop2 = pd.DataFrame({\"full\": (systems_all_full_iop2.groupby(systems_all_full_iop2.timestamp.dt.hour).count().timestamp/len(systems_all_full_iop2)*100),\n",
    "                        \"no-full\": (systems_all_iop2.groupby(systems_all_iop2.timestamp.dt.hour).count().timestamp/len(systems_all_iop2)*100)})\n",
    "\n",
    "fig = plt.figure(figsize=(7,5))\n",
    "gs = fig.add_gridspec(2,1)\n",
    "\n",
    "ax1 = fig.add_subplot(gs[0,0])\n",
    "ax_time = hourly_iop1.plot(kind=\"bar\", color=[\"w\", \"k\"], edgecolor=\"k\", ax=ax1)\n",
    "ax_time.grid(axis=\"x\")\n",
    "ax_time.set_xlabel(\"\")\n",
    "ax_time.set_xticklabels(labels=time_labels_2)\n",
    "ax_time.set_ylabel(\"Frequency (%)\")\n",
    "ax_time.set_title(\"IOP1 (Wet Season)\")\n",
    "ax_time.legend(handles=custom_legend_all_iop1, loc='upper left')\n",
    "\n",
    "ax2 = fig.add_subplot(gs[1,0])\n",
    "ax_time2 = hourly_ìop2.plot(kind=\"bar\", color=[\"w\", \"k\"], edgecolor=\"k\", ax=ax2)\n",
    "ax_time2.grid(axis=\"x\")\n",
    "ax_time2.set_xlabel(\"Local Time\")\n",
    "ax_time2.set_xticklabels(labels=time_labels_2)\n",
    "ax_time2.set_ylabel(\"Frequency (%)\")\n",
    "ax_time2.set_title(\"IOP2 (Dry Season)\")\n",
    "ax_time2.legend(handles=custom_legend_all_iop2, loc='upper left')\n",
    "\n",
    "fig.suptitle(\"Hourly distribution of clusters\", size=14, fontweight=\"bold\")\n",
    "\n",
    "gs.tight_layout(fig)\n",
    "\n",
    "plt.savefig(\"out/goamazon/exploratory_stats_hourly_iops.png\", dpi=300, facecolor=\"none\")"
   ]
  },
  {
   "attachments": {},
   "cell_type": "markdown",
   "metadata": {},
   "source": [
    "### Início dos SCs, por estação"
   ]
  },
  {
   "cell_type": "code",
   "execution_count": null,
   "metadata": {},
   "outputs": [],
   "source": [
    "# Definição das estações/IOPs: Machado et al. (2018)\n",
    "systems_per_full_wet = systems_per_full.loc[systems_per_full[\"timestamp\"].dt.month.isin([1,2,3])]\n",
    "systems_per_wet = systems_per.loc[systems_per[\"timestamp\"].dt.month.isin([1,2,3])]\n",
    "systems_per_full_dry = systems_per_full.loc[systems_per_full[\"timestamp\"].dt.month.isin([8,9,10])]\n",
    "systems_per_dry = systems_per.loc[systems_per[\"timestamp\"].dt.month.isin([8,9,10])]\n",
    "systems_per_full_drytowet = systems_per_full.loc[systems_per_full[\"timestamp\"].dt.month.isin([11,12])]\n",
    "systems_per_drytowet = systems_per.loc[systems_per[\"timestamp\"].dt.month.isin([11,12])]\n",
    "\n",
    "custom_legend_per_wet = [Patch(facecolor=\"w\", edgecolor=\"k\", label=\"Raw (total = \" + str(len(systems_per_full_wet)) + \")\"),\n",
    "                Patch(facecolor=\"k\", edgecolor=\"k\", label=\"Filtered (total = \" + str(len(systems_per_wet)) + \")\")]\n",
    "custom_legend_per_dry = [Patch(facecolor=\"w\", edgecolor=\"k\", label=\"Raw (total = \" + str(len(systems_per_full_dry)) + \")\"),\n",
    "                Patch(facecolor=\"k\", edgecolor=\"k\", label=\"Filtered (total = \" + str(len(systems_per_dry)) + \")\")]\n",
    "custom_legend_per_drytowet = [Patch(facecolor=\"w\", edgecolor=\"k\", label=\"Raw (total = \" + str(len(systems_per_full_drytowet)) + \")\"),\n",
    "                Patch(facecolor=\"k\", edgecolor=\"k\", label=\"Filtered (total = \" + str(len(systems_per_drytowet)) + \")\")]\n",
    "\n",
    "hourly_wet = pd.DataFrame({\"full\": (systems_per_full_wet.groupby(systems_per_full_wet.timestamp.dt.hour).count().timestamp/len(systems_per_full_wet)*100),\n",
    "                        \"no-full\": (systems_per_wet.groupby(systems_per_wet.timestamp.dt.hour).count().timestamp/len(systems_per_wet)*100)})\n",
    "hourly_dry = pd.DataFrame({\"full\": (systems_per_full_dry.groupby(systems_per_full_dry.timestamp.dt.hour).count().timestamp/len(systems_per_full_dry)*100),\n",
    "                        \"no-full\": (systems_per_dry.groupby(systems_per_dry.timestamp.dt.hour).count().timestamp/len(systems_per_dry)*100)})\n",
    "hourly_drytowet = pd.DataFrame({\"full\": (systems_per_full_drytowet.groupby(systems_per_full_drytowet.timestamp.dt.hour).count().timestamp/len(systems_per_full_drytowet)*100),\n",
    "                        \"no-full\": (systems_per_drytowet.groupby(systems_per_drytowet.timestamp.dt.hour).count().timestamp/len(systems_per_drytowet)*100)})\n",
    "\n",
    "fig = plt.figure(figsize=(7,7))\n",
    "gs = fig.add_gridspec(3,1)\n",
    "\n",
    "ax1 = fig.add_subplot(gs[0,0])\n",
    "ax_time = hourly_dry.plot(kind=\"bar\", color=[\"w\", \"k\"], edgecolor=\"k\", ax=ax1)\n",
    "ax_time.grid(axis=\"x\")\n",
    "ax_time.set_xlabel(\"\")\n",
    "ax_time.set_xticklabels(labels=time_labels_2)\n",
    "ax_time.set_ylabel(\"Frequency (%)\")\n",
    "ax_time.set_title(\"Dry Season\")\n",
    "ax_time.legend(handles=custom_legend_per_dry, loc='upper left')\n",
    "\n",
    "ax2 = fig.add_subplot(gs[1,0])\n",
    "ax_time2 = hourly_drytowet.plot(kind=\"bar\", color=[\"w\", \"k\"], edgecolor=\"k\", ax=ax2)\n",
    "ax_time2.grid(axis=\"x\")\n",
    "ax_time2.set_xlabel(\"\")\n",
    "ax_time2.set_xticklabels(labels=time_labels_2)\n",
    "ax_time2.set_ylabel(\"Frequency (%)\")\n",
    "ax_time2.set_title(\"Dry-to-Wet Season\")\n",
    "ax_time2.legend(handles=custom_legend_per_drytowet, loc='upper left')\n",
    "\n",
    "ax3 = fig.add_subplot(gs[2,0])\n",
    "ax_time3 = hourly_wet.plot(kind=\"bar\", color=[\"w\", \"k\"], edgecolor=\"k\", ax=ax3)\n",
    "ax_time3.grid(axis=\"x\")\n",
    "ax_time3.set_xlabel(\"Local Time\")\n",
    "ax_time3.set_xticklabels(labels=time_labels_2)\n",
    "ax_time3.set_ylabel(\"Frequency (%)\")\n",
    "ax_time3.set_title(\"Wet Season\")\n",
    "ax_time3.legend(handles=custom_legend_per_wet, loc='upper left')\n",
    "\n",
    "fig.suptitle(\"Convective systems initiation time\", size=14, fontweight=\"bold\")\n",
    "\n",
    "gs.tight_layout(fig)\n",
    "\n",
    "plt.savefig(\"out/goamazon/exploratory_stats_init.png\", dpi=300, facecolor=\"none\")"
   ]
  },
  {
   "attachments": {},
   "cell_type": "markdown",
   "metadata": {},
   "source": [
    "### Início dos SCs, por IOP"
   ]
  },
  {
   "cell_type": "code",
   "execution_count": null,
   "metadata": {},
   "outputs": [],
   "source": [
    "# Definição das estações/IOPs: Machado et al. (2018)\n",
    "systems_per_full_iop1 = systems_per_full.loc[(systems_per_full[\"timestamp\"].dt.month.isin([2,3])) & (systems_per_full[\"timestamp\"].dt.year == 2014)]\n",
    "systems_per_iop1 = systems_per.loc[(systems_per[\"timestamp\"].dt.month.isin([2,3])) & (systems_per[\"timestamp\"].dt.year == 2014)]\n",
    "systems_per_full_iop2 = systems_per_full.set_index([\"timestamp\"]).loc[\"2014-8-15\":\"2014-10-15\"].reset_index()\n",
    "systems_per_iop2 = systems_per.set_index([\"timestamp\"]).loc[\"2014-8-15\":\"2014-10-15\"].reset_index()\n",
    "\n",
    "custom_legend_per_iop1 = [Patch(facecolor=\"w\", edgecolor=\"k\", label=\"Raw (total = \" + str(len(systems_per_full_iop1)) + \")\"),\n",
    "                Patch(facecolor=\"k\", edgecolor=\"k\", label=\"Filtered (total = \" + str(len(systems_per_iop1)) + \")\")]\n",
    "custom_legend_per_iop2 = [Patch(facecolor=\"w\", edgecolor=\"k\", label=\"Raw (total = \" + str(len(systems_per_full_iop2)) + \")\"),\n",
    "                Patch(facecolor=\"k\", edgecolor=\"k\", label=\"Filtered (total = \" + str(len(systems_per_iop2)) + \")\")]\n",
    "\n",
    "hourly_iop1 = pd.DataFrame({\"full\": (systems_per_full_iop1.groupby(systems_per_full_iop1.timestamp.dt.hour).count().timestamp/len(systems_per_full_iop1)*100),\n",
    "                        \"no-full\": (systems_per_iop1.groupby(systems_per_iop1.timestamp.dt.hour).count().timestamp/len(systems_per_iop1)*100)})\n",
    "hourly_ìop2 = pd.DataFrame({\"full\": (systems_per_full_iop2.groupby(systems_per_full_iop2.timestamp.dt.hour).count().timestamp/len(systems_per_full_iop2)*100),\n",
    "                        \"no-full\": (systems_per_iop2.groupby(systems_per_iop2.timestamp.dt.hour).count().timestamp/len(systems_per_iop2)*100)})\n",
    "\n",
    "fig = plt.figure(figsize=(7,5))\n",
    "gs = fig.add_gridspec(2,1)\n",
    "\n",
    "ax1 = fig.add_subplot(gs[0,0])\n",
    "ax_time = hourly_iop1.plot(kind=\"bar\", color=[\"w\", \"k\"], edgecolor=\"k\", ax=ax1)\n",
    "ax_time.grid(axis=\"x\")\n",
    "ax_time.set_xlabel(\"\")\n",
    "ax_time.set_xticklabels(labels=time_labels_2)\n",
    "ax_time.set_ylabel(\"Frequency (%)\")\n",
    "ax_time.set_title(\"IOP1 (Wet Season)\")\n",
    "ax_time.legend(handles=custom_legend_per_iop1, loc='upper left')\n",
    "\n",
    "ax2 = fig.add_subplot(gs[1,0])\n",
    "ax_time2 = hourly_ìop2.plot(kind=\"bar\", color=[\"w\", \"k\"], edgecolor=\"k\", ax=ax2)\n",
    "ax_time2.grid(axis=\"x\")\n",
    "ax_time2.set_xlabel(\"Local Time\")\n",
    "ax_time2.set_xticklabels(labels=time_labels_2)\n",
    "ax_time2.set_ylabel(\"Frequency (%)\")\n",
    "ax_time2.set_title(\"IOP2 (Dry Season)\")\n",
    "ax_time2.legend(handles=custom_legend_per_iop2, loc='upper left')\n",
    "\n",
    "fig.suptitle(\"Convective systems initiation time\", size=14, fontweight=\"bold\")\n",
    "\n",
    "gs.tight_layout(fig)\n",
    "\n",
    "plt.savefig(\"out/goamazon/exploratory_stats_init_iops.png\", dpi=300, facecolor=\"none\")"
   ]
  },
  {
   "attachments": {},
   "cell_type": "markdown",
   "metadata": {},
   "source": [
    "### GLM: organizar em paineis com outras variáveis"
   ]
  },
  {
   "cell_type": "code",
   "execution_count": null,
   "metadata": {},
   "outputs": [],
   "source": [
    "# Definição das estações/IOPs: Machado et al. (2018)\n",
    "custom_legend_all2 = [Patch(facecolor=\"k\", edgecolor=\"k\", label=str(int(systems_all.gld.sum())) + \" strokes\"),\n",
    "                Patch(facecolor=\"dodgerblue\", edgecolor=\"dodgerblue\", label=\"Wet season\"),\n",
    "                Patch(facecolor=\"red\", edgecolor=\"red\", label=\"Dry season\")]\n",
    "\n",
    "monthly = pd.DataFrame({\"no-full\": (systems_all.resample(\"1M\", on=\"timestamp\").sum().gld/systems_all.gld.sum())})\n",
    "\n",
    "fig = plt.figure(figsize=(7,4))\n",
    "gs = fig.add_gridspec(1,1)\n",
    "\n",
    "ax1 = fig.add_subplot(gs[0,0])\n",
    "ax_time = monthly.plot(kind=\"bar\", color=[\"k\"], edgecolor=\"k\", ax=ax1)\n",
    "ax_time.axvspan(-0.5, 2.5, facecolor=\"dodgerblue\", edgecolor=\"none\", alpha=0.5, zorder=0)\n",
    "ax_time.axvspan(6.5, 9.5, facecolor=\"r\", edgecolor=\"none\", alpha=0.5, zorder=0)\n",
    "ax_time.axvspan(11.5, 14.5, facecolor=\"dodgerblue\", edgecolor=\"none\", alpha=0.5, zorder=0)\n",
    "ax_time.axvspan(18.5, 21.5, facecolor=\"r\", edgecolor=\"none\", alpha=0.5, zorder=0)\n",
    "ax_time.axvline([0.5], color=\"k\", linestyle=\"--\")\n",
    "ax_time.axvline([2.5], color=\"k\", linestyle=\"--\")\n",
    "ax_time.axvline([7], color=\"k\", linestyle=\"--\")\n",
    "ax_time.axvline([9], color=\"k\", linestyle=\"--\")\n",
    "ax_time.text(x=1.5, y=0.175, s=\"IOP1\", fontweight=\"bold\", ha=\"center\")\n",
    "ax_time.text(x=8, y=0.175, s=\"IOP2\", fontweight=\"bold\", ha=\"center\")\n",
    "ax_time.grid(axis=\"x\")\n",
    "ax_time.set_xlabel(\"\")\n",
    "ax_time.set_xticklabels(labels=time_labels)\n",
    "ax_time.set_ylabel(\"Frequency\")\n",
    "ax_time.set_title(\"Monthly distribution of GLD strokes\")\n",
    "ax_time.legend(handles=custom_legend_all2, loc='upper left', bbox_to_anchor=(0.61, 1))\n",
    "\n",
    "gs.tight_layout(fig)\n",
    "\n",
    "plt.savefig(\"out/goamazon/exploratory_stats_gld_monthly.png\", dpi=300, facecolor=\"none\")"
   ]
  },
  {
   "cell_type": "code",
   "execution_count": null,
   "metadata": {},
   "outputs": [],
   "source": [
    "# Definição das estações/IOPs: Machado et al. (2018)\n",
    "systems_all_wet = systems_all.loc[systems_all[\"timestamp\"].dt.month.isin([1,2,3])]\n",
    "systems_all_dry = systems_all.loc[systems_all[\"timestamp\"].dt.month.isin([8,9,10])]\n",
    "systems_all_drytowet = systems_all.loc[systems_all[\"timestamp\"].dt.month.isin([11,12])]\n",
    "\n",
    "custom_legend_all_wet = [Patch(facecolor=\"k\", edgecolor=\"k\", label=str(int(systems_all_wet.gld.sum())) + \" strokes\")]\n",
    "custom_legend_all_dry = [Patch(facecolor=\"k\", edgecolor=\"k\", label=str(int(systems_all_dry.gld.sum())) + \" strokes\")]\n",
    "custom_legend_all_drytowet = [Patch(facecolor=\"k\", edgecolor=\"k\", label=str(int(systems_all_drytowet.gld.sum())) + \" strokes\")]\n",
    "\n",
    "hourly_wet = pd.DataFrame({\"no-full\": (systems_all_wet.groupby(systems_all_wet.timestamp.dt.hour).sum().gld/systems_all_wet.gld.sum())})\n",
    "hourly_dry = pd.DataFrame({\"no-full\": (systems_all_dry.groupby(systems_all_dry.timestamp.dt.hour).sum().gld/systems_all_dry.gld.sum())})\n",
    "hourly_drytowet = pd.DataFrame({\"no-full\": (systems_all_drytowet.groupby(systems_all_drytowet.timestamp.dt.hour).sum().gld/systems_all_drytowet.gld.sum())})\n",
    "\n",
    "fig = plt.figure(figsize=(7,7))\n",
    "gs = fig.add_gridspec(3,1)\n",
    "\n",
    "ax1 = fig.add_subplot(gs[0,0])\n",
    "ax_time = hourly_dry.plot(kind=\"bar\", color=[\"k\"], edgecolor=\"k\", ax=ax1)\n",
    "ax_time.grid(axis=\"x\")\n",
    "ax_time.set_xlabel(\"\")\n",
    "ax_time.set_xticklabels(labels=time_labels_2)\n",
    "ax_time.set_ylabel(\"Frequency\")\n",
    "ax_time.set_title(\"Dry Season\")\n",
    "ax_time.legend(handles=custom_legend_all_dry, loc='upper left')\n",
    "\n",
    "ax2 = fig.add_subplot(gs[1,0])\n",
    "ax_time2 = hourly_drytowet.plot(kind=\"bar\", color=[\"k\"], edgecolor=\"k\", ax=ax2)\n",
    "ax_time2.grid(axis=\"x\")\n",
    "ax_time2.set_xlabel(\"\")\n",
    "ax_time2.set_xticklabels(labels=time_labels_2)\n",
    "ax_time2.set_ylabel(\"Frequency\")\n",
    "ax_time2.set_title(\"Dry-to-Wet Season\")\n",
    "ax_time2.legend(handles=custom_legend_all_drytowet, loc='upper left')\n",
    "\n",
    "ax3 = fig.add_subplot(gs[2,0])\n",
    "ax_time3 = hourly_wet.plot(kind=\"bar\", color=[\"k\"], edgecolor=\"k\", ax=ax3)\n",
    "ax_time3.grid(axis=\"x\")\n",
    "ax_time3.set_xlabel(\"Local Time\")\n",
    "ax_time3.set_xticklabels(labels=time_labels_2)\n",
    "ax_time3.set_ylabel(\"Frequency\")\n",
    "ax_time3.set_title(\"Wet Season\")\n",
    "ax_time3.legend(handles=custom_legend_all_wet, loc='upper left')\n",
    "\n",
    "fig.suptitle(\"Hourly distribution of strokes\", size=14, fontweight=\"bold\")\n",
    "\n",
    "gs.tight_layout(fig)\n",
    "\n",
    "plt.savefig(\"out/goamazon/exploratory_stats_gld_init.png\", dpi=300, facecolor=\"none\")"
   ]
  },
  {
   "attachments": {},
   "cell_type": "markdown",
   "metadata": {},
   "source": [
    "### Geoms: mapa com início e trajetórias"
   ]
  },
  {
   "cell_type": "code",
   "execution_count": null,
   "metadata": {},
   "outputs": [],
   "source": [
    "systems_per.geom = [ogr2shapely(g) for g in systems_per.geom]\n",
    "systems_geom = gpd.GeoDataFrame(systems_per, geometry=\"geom\").set_crs('EPSG:3395')\n",
    "systems_geom[\"point\"] = systems_geom.geometry.to_crs(\"EPSG:3857\").centroid.to_crs(\"EPSG:3395\")\n",
    "systems_geom"
   ]
  },
  {
   "cell_type": "code",
   "execution_count": null,
   "metadata": {},
   "outputs": [],
   "source": [
    "rivers = gpd.read_file(\"/home/camilacl/git/amazon-storms-aerosols/data/general/shapefiles/ne_10m_rivers_lake_centerlines.shp\").to_crs(\"EPSG:3395\")\n",
    "rivers"
   ]
  },
  {
   "cell_type": "code",
   "execution_count": null,
   "metadata": {},
   "outputs": [],
   "source": [
    "systems_geom.loc[(systems_geom[\"timestamp\"].dt.year == 2015) & (systems_geom[\"timestamp\"].dt.month == 1)].geom.plot(facecolor=\"none\")"
   ]
  },
  {
   "cell_type": "code",
   "execution_count": null,
   "metadata": {},
   "outputs": [],
   "source": [
    "plt.clf()"
   ]
  },
  {
   "cell_type": "code",
   "execution_count": null,
   "metadata": {},
   "outputs": [],
   "source": [
    "months = [1,2,3,4,5,6,7,8,9,10,11,12]\n",
    "months_names = [\"Jan\", \"Feb\", \"Mar\", \"Abr\", \"May\", \"Jun\", \"Jul\", \"Aug\", \"Sep\", \"Oct\", \"Nov\", \"Dec\"]\n",
    "\n",
    "fig = plt.figure(figsize=(10,15))\n",
    "gs = fig.add_gridspec(4,3)\n",
    "\n",
    "for month, name in zip(months, months_names):\n",
    "    ax = fig.add_subplot(gs[month-1])\n",
    "    ax_plt = systems_geom.loc[(systems_geom[\"timestamp\"].dt.year == 2014) & (systems_geom[\"timestamp\"].dt.month == month)].geom.plot(facecolor=\"none\", linewidth=0.5, ax=ax)\n",
    "    ax_plt.set_xlim((-61.5, -58.5))\n",
    "    ax_plt.set_ylim((-4.5, -1.5))\n",
    "    ax_plt.set_xlabel(\"Longitude (°)\")\n",
    "    ax_plt.set_ylabel(\"Latitude (°)\")\n",
    "    rivers.plot(ax=ax)\n",
    "    ax_plt.set_title(name + \" 2014 - \" + str(systems_geom.loc[(systems_geom[\"timestamp\"].dt.year == 2014) & (systems_geom[\"timestamp\"].dt.month == month)].geom.count()) + \" CSs\")\n",
    "\n",
    "fig.suptitle(\"Convective Systems Initiation\", size=14, fontweight=\"bold\")\n",
    "\n",
    "gs.tight_layout(fig)\n",
    "\n",
    "fig = plt.figure(figsize=(10,15))\n",
    "gs = fig.add_gridspec(4,3)\n",
    "\n",
    "for month, name in zip(months, months_names):\n",
    "    ax = fig.add_subplot(gs[month-1])\n",
    "    ax_plt = systems_geom.loc[(systems_geom[\"timestamp\"].dt.year == 2015) & (systems_geom[\"timestamp\"].dt.month == month)].geom.plot(facecolor=\"none\", linewidth=0.5, ax=ax)\n",
    "    ax_plt.set_xlim((-61.5, -58.5))\n",
    "    ax_plt.set_ylim((-4.5, -1.5))\n",
    "    ax_plt.set_xlabel(\"Longitude (°)\")\n",
    "    ax_plt.set_ylabel(\"Latitude (°)\")\n",
    "    rivers.plot(ax=ax)\n",
    "    ax_plt.set_title(name + \" 2015 - \" + str(systems_geom.loc[(systems_geom[\"timestamp\"].dt.year == 2015) & (systems_geom[\"timestamp\"].dt.month == month)].geom.count()) + \" CSs\")\n",
    "\n",
    "fig.suptitle(\"Convective Systems Initiation\", size=14, fontweight=\"bold\")\n",
    "\n",
    "gs.tight_layout(fig)"
   ]
  },
  {
   "cell_type": "code",
   "execution_count": null,
   "metadata": {},
   "outputs": [],
   "source": [
    "temp = pd.DataFrame(systems_all)\n",
    "temp[\"ellipse\"] = temp.geom.apply(lambda x: fitEllipse(x))\n",
    "[ellipse.CloseRings() for ellipse in temp.ellipse]\n",
    "temp.ellipse = [ogr2shapely(g) for g in temp.ellipse]\n",
    "clusters_geom = gpd.GeoDataFrame(temp, geometry=\"ellipse\").set_crs('EPSG:3395')\n",
    "clusters_geom[\"point\"] = clusters_geom.ellipse.to_crs(\"EPSG:3857\").centroid.to_crs(\"EPSG:3395\")\n",
    "clusters_geom.geom = [ogr2shapely(g) for g in clusters_geom.geom]\n",
    "clusters_geom"
   ]
  },
  {
   "cell_type": "code",
   "execution_count": null,
   "metadata": {},
   "outputs": [],
   "source": [
    "clusters_geomt = clusters_geom.groupby(\"geom_name\").filter(lambda x : len(x)>1)\n",
    "points = clusters_geomt.groupby(\"geom_name\").point.apply(lambda x: LineString(x.tolist()[::len(x.tolist())-1]))\n",
    "clusters_geom2 = gpd.GeoDataFrame(points, geometry='point').set_crs('EPSG:3395')\n",
    "clusters_geom2[\"timestamp\"] = clusters_geomt.groupby(\"geom_name\").first().timestamp\n",
    "clusters_geom2"
   ]
  },
  {
   "cell_type": "code",
   "execution_count": null,
   "metadata": {},
   "outputs": [],
   "source": [
    "clusters_geom3 = gpd.GeoDataFrame(clusters_geom, geometry=\"geom\").set_crs('EPSG:3395')\n",
    "clusters_geom3"
   ]
  },
  {
   "cell_type": "code",
   "execution_count": null,
   "metadata": {},
   "outputs": [],
   "source": [
    "clusters_geom2.loc[(clusters_geom2[\"timestamp\"].dt.year == 2014) & (clusters_geom2[\"timestamp\"].dt.month == 1)].point.plot(linewidth=0.5)"
   ]
  },
  {
   "attachments": {},
   "cell_type": "markdown",
   "metadata": {},
   "source": [
    "#### FAZER SETA ENTRE PTO INICIAL E FINAL\n",
    "Não sei como ☹"
   ]
  },
  {
   "cell_type": "code",
   "execution_count": null,
   "metadata": {},
   "outputs": [],
   "source": [
    "crs = ccrs.PlateCarree()\n",
    "fig = plt.figure(figsize=(10,15))\n",
    "gs = fig.add_gridspec(1,1)\n",
    "\n",
    "ax = fig.add_subplot(gs[0], projection=crs)\n",
    "ax_plt = systems_geom.loc[(systems_geom[\"timestamp\"].dt.year == 2014) & (systems_geom[\"timestamp\"].dt.month == 1)].to_crs(crs.proj4_init).point.plot(color=\"r\", ax=ax)\n",
    "clusters_geom2.loc[(clusters_geom2[\"timestamp\"].dt.year == 2014) & (clusters_geom2[\"timestamp\"].dt.month == 1)].point.plot(color=\"g\", ax=ax)\n",
    "# clusters_geom.loc[(clusters_geom[\"timestamp\"].dt.year == 2014) & (clusters_geom[\"timestamp\"].dt.month == 1) & (clusters_geom[\"timestamp\"].dt.day == 10)].ellipse.plot(facecolor=\"none\", ax=ax)\n",
    "# clusters_geom3.loc[(clusters_geom3[\"timestamp\"].dt.year == 2014) & (clusters_geom3[\"timestamp\"].dt.month == 1) & (clusters_geom3[\"timestamp\"].dt.day == 10)].geom.plot(facecolor=\"none\", ax=ax)\n",
    "ax_plt.set_xlim((-61.47, -58.5))\n",
    "ax_plt.set_ylim((-4.65, -1.65))\n",
    "ax_plt.set_xlabel(\"Longitude (°)\")\n",
    "ax_plt.set_ylabel(\"Latitude (°)\")\n",
    "rivers.to_crs(crs.proj4_init).plot(ax=ax)\n",
    "# ax.add_geometries(rivers[\"geometry\"].to_crs(crs.proj4_init), crs=crs)\n",
    "ax.tissot(rad_km=150, lons=[-59.991,], lats=[-3.149,], n_samples=128, facecolor=\"none\")\n",
    "gl = ax.gridlines(crs=crs, draw_labels=True)\n",
    "gl.top_labels = False\n",
    "gl.right_labels = False\n",
    "\n",
    "# ax_plt.set_title(name + \" 2014 - \" + str(systems_geom.loc[(systems_geom[\"timestamp\"].dt.year == 2014) & (systems_geom[\"timestamp\"].dt.month == month)].geom.count()) + \" CSs\")\n"
   ]
  },
  {
   "attachments": {},
   "cell_type": "markdown",
   "metadata": {},
   "source": [
    "### Echotops, derivada de echotops"
   ]
  },
  {
   "cell_type": "code",
   "execution_count": 24,
   "metadata": {},
   "outputs": [
    {
     "data": {
      "image/png": "[encoded data removed]",
      "text/plain": [
       "<Figure size 700x400 with 1 Axes>"
      ]
     },
     "metadata": {},
     "output_type": "display_data"
    }
   ],
   "source": [
    "tops = pd.DataFrame({\"0 dBZ\": (systems_all[\"echotop_0\"].value_counts()/len(systems_all)*100),\n",
    "                     \"20 dBZ\": (systems_all[\"echotop_20\"].value_counts()/len(systems_all)*100),\n",
    "                     \"40 dBZ\": (systems_all[\"echotop_40\"].value_counts()/len(systems_all)*100)}).drop(index=0)\n",
    "\n",
    "\n",
    "fig = plt.figure(figsize=(7,4))\n",
    "gs = fig.add_gridspec(1,1)\n",
    "\n",
    "ax1 = fig.add_subplot(gs[0,0])\n",
    "ax_echo = tops.plot(kind=\"bar\", color=(\"#E2E2E2\",\"#A1A6C8\", \"#023FA5\"), ax=ax1)\n",
    "ax_echo.grid(axis=\"x\")\n",
    "ax_echo.set_xlabel(\"Height (km)\")\n",
    "ax_echo.set_ylabel(\"Frequency (%)\")\n",
    "ax_echo.set_xticks(ax1.get_xticks(), ax1.get_xticklabels(), rotation=0)\n",
    "ax_echo.set_title(\"Clusters Echo Tops\", fontweight=\"bold\")\n",
    "\n",
    "gs.tight_layout(fig)\n",
    "\n",
    "plt.savefig(\"out/goamazon/exploratory_stats_echotops.png\", dpi=300, facecolor=\"none\")"
   ]
  },
  {
   "attachments": {},
   "cell_type": "markdown",
   "metadata": {},
   "source": [
    "# FALTA ARRUMAR"
   ]
  },
  {
   "cell_type": "code",
   "execution_count": null,
   "metadata": {},
   "outputs": [],
   "source": [
    "custom_legend_all2 = [Patch(facecolor=\"k\", edgecolor=\"k\", label=\" strokes\"),\n",
    "                Patch(facecolor=\"dodgerblue\", edgecolor=\"dodgerblue\", label=\"Wet season\"),\n",
    "                Patch(facecolor=\"red\", edgecolor=\"red\", label=\"Dry season\")]\n",
    "\n",
    "tops = pd.DataFrame({\"0 dBZ\": (systems_all[\"echotop_0\"].value_counts()/len(systems_all)*100),\n",
    "                     \"20 dBZ\": (systems_all[\"echotop_20\"].value_counts()/len(systems_all)*100),\n",
    "                     \"40 dBZ\": (systems_all[\"echotop_40\"].value_counts()/len(systems_all)*100)}).drop(index=0)\n",
    "\n",
    "\n",
    "fig = plt.figure(figsize=(7,4))\n",
    "gs = fig.add_gridspec(1,1)\n",
    "\n",
    "ax1 = fig.add_subplot(gs[0,0])\n",
    "ax_echo = tops.plot(kind=\"bar\", color=(\"#E2E2E2\",\"#A1A6C8\", \"#023FA5\"), ax=ax1)\n",
    "ax_echo.grid(axis=\"x\")\n",
    "ax_echo.set_xlabel(\"Height (km)\")\n",
    "ax_echo.set_ylabel(\"Frequency (%)\")\n",
    "ax_echo.set_xticks(ax1.get_xticks(), ax1.get_xticklabels(), rotation=0)\n",
    "ax_echo.set_title(\"Clusters Echo Tops\", fontweight=\"bold\")\n",
    "\n",
    "gs.tight_layout(fig)\n",
    "\n",
    "plt.savefig(\"out/goamazon/exploratory_stats_echotops.png\", dpi=300, facecolor=\"none\")"
   ]
  }
 ],
 "metadata": {
  "kernelspec": {
   "display_name": "Python 3 (env-tathu)",
   "language": "python",
   "name": "env-tathu"
  },
  "language_info": {
   "codemirror_mode": {
    "name": "ipython",
    "version": 3
   },
   "file_extension": ".py",
   "mimetype": "text/x-python",
   "name": "python",
   "nbconvert_exporter": "python",
   "pygments_lexer": "ipython3",
   "version": "3.10.5"
  },
  "orig_nbformat": 4,
  "vscode": {
   "interpreter": {
    "hash": "b66c37480e8e05115256f23411fe1d216a8bc5b0a1ef62977142693e52c23e56"
   }
  }
 },
 "nbformat": 4,
 "nbformat_minor": 2
}
